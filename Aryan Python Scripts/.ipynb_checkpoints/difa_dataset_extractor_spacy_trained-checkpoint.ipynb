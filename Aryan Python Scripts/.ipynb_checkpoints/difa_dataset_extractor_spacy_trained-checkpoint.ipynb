{
 "cells": [
  {
   "cell_type": "code",
   "execution_count": 2,
   "id": "4063dda4",
   "metadata": {},
   "outputs": [],
   "source": [
    "import spacy\n",
    "from spacy.lang.en import English\n",
    "from spacy.pipeline import EntityRuler\n",
    "import json"
   ]
  },
  {
   "cell_type": "code",
   "execution_count": 3,
   "id": "04676297",
   "metadata": {},
   "outputs": [],
   "source": [
    "def load_data(file):\n",
    "    with open(file, \"r\", encoding=\"utf-8\") as f:\n",
    "        data = json.load(f)\n",
    "    return (data)"
   ]
  },
  {
   "cell_type": "code",
   "execution_count": 4,
   "id": "c8e00bb1",
   "metadata": {},
   "outputs": [],
   "source": [
    "def save_data(file, data):\n",
    "    with open (file, \"w\", encoding=\"utf-8\") as f:\n",
    "        json.dump(data, f, indent=4)"
   ]
  },
  {
   "cell_type": "code",
   "execution_count": 10,
   "id": "07fe9905",
   "metadata": {},
   "outputs": [],
   "source": [
    "def create_training_data(file, type):\n",
    "    data = load_data(file)\n",
    "    data = data[\"datasets\"]\n",
    "    patterns = []\n",
    "    for item in data:\n",
    "        pattern = {\n",
    "                    \"label\": type,\n",
    "                    \"pattern\": item\n",
    "                    }\n",
    "        patterns.append(pattern)\n",
    "    return (patterns)"
   ]
  },
  {
   "cell_type": "code",
   "execution_count": 15,
   "id": "d213e644",
   "metadata": {},
   "outputs": [],
   "source": [
    "def generate_rules(patterns):\n",
    "    #Build upon the spaCy Small English Model\n",
    "    nlp = spacy.blank(\"en\")\n",
    "    #Create the EntityRuler\n",
    "    ruler = nlp.add_pipe(\"entity_ruler\")\n",
    "    ruler.add_patterns(patterns)\n",
    "    nlp.to_disk(\"difa_ner\")"
   ]
  },
  {
   "cell_type": "code",
   "execution_count": 22,
   "id": "8e3b4892",
   "metadata": {},
   "outputs": [],
   "source": [
    "def test_model(model, text):\n",
    "    doc = model(text)\n",
    "    results = []\n",
    "    for ent in doc.ents:\n",
    "        results.append(ent.text)\n",
    "    return (results)"
   ]
  },
  {
   "cell_type": "code",
   "execution_count": 23,
   "id": "de7c84c0",
   "metadata": {},
   "outputs": [],
   "source": [
    "patterns = create_training_data(\"data/difa_datasets.json\", \"DATASET\")\n",
    "generate_rules(patterns)"
   ]
  },
  {
   "cell_type": "code",
   "execution_count": 24,
   "id": "b2a69ada",
   "metadata": {},
   "outputs": [],
   "source": [
    "nlp = spacy.load(\"difa_ner\")\n",
    "ie_data = {}\n",
    "text_data = [\"This study uses the National Household Food Acquisition and Purchase Survey data set to examine the effect of reporting error on food-related outcomes.\",\n",
    "             \"This research uses the Survey of Consumer Finances data set to analyze the relationship between income and wealth.\",\n",
    "             \"The data used in this study is from the American Community Survey.\",\n",
    "             \"In conjunction with medical claims data, we use data from SafeGraph\"]"
   ]
  },
  {
   "cell_type": "code",
   "execution_count": 25,
   "id": "881861b5",
   "metadata": {},
   "outputs": [
    {
     "name": "stdout",
     "output_type": "stream",
     "text": [
      "['National Household Food Acquisition and Purchase Survey']\n",
      "['Survey of Consumer Finances']\n",
      "['American Community Survey']\n",
      "['SafeGraph']\n"
     ]
    }
   ],
   "source": [
    "for text in text_data:\n",
    "    results = test_model(nlp, text)\n",
    "    print(type(results))"
   ]
  },
  {
   "cell_type": "code",
   "execution_count": null,
   "id": "d12ce7be",
   "metadata": {},
   "outputs": [],
   "source": []
  }
 ],
 "metadata": {
  "kernelspec": {
   "display_name": "Python 3 (ipykernel)",
   "language": "python",
   "name": "python3"
  },
  "language_info": {
   "codemirror_mode": {
    "name": "ipython",
    "version": 3
   },
   "file_extension": ".py",
   "mimetype": "text/x-python",
   "name": "python",
   "nbconvert_exporter": "python",
   "pygments_lexer": "ipython3",
   "version": "3.10.9"
  }
 },
 "nbformat": 4,
 "nbformat_minor": 5
}
